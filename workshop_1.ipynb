{
 "cells": [
  {
   "cell_type": "markdown",
   "id": "522e177e",
   "metadata": {},
   "source": [
    "# Workshop 1\n",
    "- Dax Navarrete"
   ]
  },
  {
   "cell_type": "markdown",
   "id": "044766f1",
   "metadata": {},
   "source": [
    "### Env preparation \n",
    "UV external manager venv is being used, not pip "
   ]
  },
  {
   "cell_type": "code",
   "execution_count": 5,
   "id": "661bbb8a",
   "metadata": {},
   "outputs": [
    {
     "name": "stdout",
     "output_type": "stream",
     "text": [
      "\u001b[2mResolved \u001b[1m47 packages\u001b[0m \u001b[2min 1ms\u001b[0m\u001b[0m\n",
      "\u001b[2mAudited \u001b[1m41 packages\u001b[0m \u001b[2min 0.43ms\u001b[0m\u001b[0m\n"
     ]
    }
   ],
   "source": [
    "!uv add seaborn"
   ]
  },
  {
   "cell_type": "code",
   "execution_count": 2,
   "id": "e40c6d3b",
   "metadata": {},
   "outputs": [],
   "source": [
    "# imports\n",
    "from typing import List, Dict\n",
    "import seaborn as sns\n",
    "import matplotlib.pyplot as plt\n",
    "from random import randint\n"
   ]
  },
  {
   "cell_type": "markdown",
   "id": "fba0c9e4",
   "metadata": {},
   "source": [
    "## First Algorithm\n",
    "\n",
    "Calculate the number of iterations required in the $1 + 1/2 + 1/4 + 1/8 + 1/16 $ serie for it to have a $10^-1$ error "
   ]
  },
  {
   "cell_type": "code",
   "execution_count": 3,
   "id": "3d41a458",
   "metadata": {},
   "outputs": [],
   "source": [
    "def sum_convergence_with_error(max_error: float) -> None:\n",
    "    \"\"\"Sum convergence until a given error\n",
    "\n",
    "    Args:\n",
    "        max_error (float): tolerated error\n",
    "    \"\"\"\n",
    "\n",
    "    sum: float = 1\n",
    "    counter: int = 1  # 1 thinking that the 1 counts as an add\n",
    "    divider: int = 2\n",
    "    while (True):\n",
    "\n",
    "        sum = sum + 1/divider\n",
    "\n",
    "        divider *= 2\n",
    "        print(sum)\n",
    "        counter += 1\n",
    "        if ((2-sum) <= max_error):\n",
    "            print(counter)\n",
    "            break\n"
   ]
  },
  {
   "cell_type": "code",
   "execution_count": 4,
   "id": "06811e47",
   "metadata": {},
   "outputs": [
    {
     "name": "stdout",
     "output_type": "stream",
     "text": [
      "1.5\n",
      "1.75\n",
      "1.875\n",
      "1.9375\n",
      "5\n"
     ]
    }
   ],
   "source": [
    "sum_convergence_with_error(10**-1)"
   ]
  },
  {
   "cell_type": "markdown",
   "id": "525e326c",
   "metadata": {},
   "source": [
    "## Second algorithm \n",
    "Bubble sort implementation"
   ]
  },
  {
   "cell_type": "code",
   "execution_count": 5,
   "id": "3b961438",
   "metadata": {},
   "outputs": [],
   "source": [
    "def bubble_sort(vector: List[float]) -> List[float]:\n",
    "    \"\"\"Sort a vector of numbers\n",
    "\n",
    "    Args:\n",
    "        vector (List[float]): Vector to be sorted\n",
    "\n",
    "    Returns:\n",
    "        List[float]: Sorted Vector\n",
    "    \"\"\"\n",
    "    counter: int = 0\n",
    "    for i in range(0, len(vector)):\n",
    "        swapped: bool = False\n",
    "        for j in range(1, len(vector)-i):\n",
    "            if (vector[j] < vector[j - 1]):\n",
    "                vector[j], vector[j - 1] = vector[j - 1], vector[j]\n",
    "                counter += 1\n",
    "                swapped = True\n",
    "        if (not swapped):\n",
    "            break\n",
    "    print(f\"{counter} swaps were done \")\n",
    "    return vector\n"
   ]
  },
  {
   "cell_type": "markdown",
   "id": "c9bb786a",
   "metadata": {},
   "source": [
    "Worst time complexity when the array is completely disordered $O(n^2)$ and the best when is ordered $(1)$"
   ]
  },
  {
   "cell_type": "code",
   "execution_count": 6,
   "id": "62d50b1e",
   "metadata": {},
   "outputs": [],
   "source": [
    "worst_case: List[float] = [5, 4, 3, 2, 1]\n",
    "best_case: List[float] = [1, 2, 3, 4, 5] "
   ]
  },
  {
   "cell_type": "markdown",
   "id": "e3bbc25b",
   "metadata": {},
   "source": [
    "Array with random numbers between -200 and 145"
   ]
  },
  {
   "cell_type": "code",
   "execution_count": 7,
   "id": "23fe4059",
   "metadata": {},
   "outputs": [],
   "source": [
    "vector2: List[float] = [float(randint(-200, 145))\n",
    "                            for i in range(0, 100000)]"
   ]
  },
  {
   "cell_type": "code",
   "execution_count": 8,
   "id": "78a3ad6d",
   "metadata": {},
   "outputs": [
    {
     "name": "stdout",
     "output_type": "stream",
     "text": [
      "10 swaps were done \n",
      "in the worst case:  [1, 2, 3, 4, 5]\n",
      "0 swaps were done \n",
      "in the best case:  [1, 2, 3, 4, 5]\n"
     ]
    }
   ],
   "source": [
    "print(\"in the worst case: \", bubble_sort(worst_case))\n",
    "print(\"in the best case: \", bubble_sort(best_case))\n",
    "# print(bubble_sort(vector2))"
   ]
  },
  {
   "cell_type": "markdown",
   "id": "af900b02",
   "metadata": {},
   "source": [
    "## Third Algorithm\n",
    "Fibonacci implemntation and ploting "
   ]
  },
  {
   "cell_type": "code",
   "execution_count": 9,
   "id": "3b0416db",
   "metadata": {},
   "outputs": [],
   "source": [
    "def fibonacci(n: int) -> int:\n",
    "    \"\"\"Fibonacci sequence\n",
    "\n",
    "    Args:\n",
    "        n (int): non negative integer\n",
    "\n",
    "    Returns:\n",
    "        int: fibonacci value at n iterations\n",
    "    \"\"\"\n",
    "    if (n == 0):\n",
    "        return 0\n",
    "    else:\n",
    "        x: int = 0\n",
    "        y: int = 1\n",
    "        for i in range(1, n):\n",
    "            z: int = x + y\n",
    "            x = y\n",
    "            y = z\n",
    "    return y\n"
   ]
  },
  {
   "cell_type": "markdown",
   "id": "d566ec9e",
   "metadata": {},
   "source": [
    "A \"dataset\" will be filled with the fibonacci value in each iteration with a n given number of iterations"
   ]
  },
  {
   "cell_type": "code",
   "execution_count": 10,
   "id": "470d1177",
   "metadata": {},
   "outputs": [],
   "source": [
    "def fill_with_fibonacci_data(iterations: int) -> Dict[str, List[float]]:\n",
    "    \"\"\"Fill a dictionary with fibonacci values\n",
    "\n",
    "    Args:\n",
    "        iterations (int): number of iterations for fibonacci values\n",
    "\n",
    "    Returns:\n",
    "        Dict[str, List[float]]: dictionary with x and y values for plotting\n",
    "    \"\"\"\n",
    "    x_values: List[float] = [float(i) for i in range(0, iterations)]\n",
    "    values: Dict[str, List[float]] = {\"x\": x_values}\n",
    "    values[\"y\"] = [fibonacci(int(i)) for i in x_values]\n",
    "    return values\n"
   ]
  },
  {
   "cell_type": "markdown",
   "id": "0fc13274",
   "metadata": {},
   "source": [
    "Plots will be done with using **Seaborn** library using the filled dataset"
   ]
  },
  {
   "cell_type": "code",
   "execution_count": null,
   "id": "a395f11f",
   "metadata": {},
   "outputs": [],
   "source": [
    "def plot_fibonacci_values(iterations: int) -> None:\n",
    "    \"\"\"Plots fibonacci values with n iterations\n",
    "\n",
    "    Args:\n",
    "        iterations (int): number of iterations\n",
    "    \"\"\"\n",
    "    fibonacci_data: Dict[str, List[float]\n",
    "                         ] = fill_with_fibonacci_data(iterations)\n",
    "\n",
    "    sns.set_theme()\n",
    "    sns.lineplot(x=fibonacci_data[\"x\"], y=fibonacci_data[\"y\"], marker=\"X\")\n",
    "    plt.title(\"Fibonacci Values\")\n",
    "    plt.xlabel(\"n value\")\n",
    "    plt.ylabel(\"Fibonacci value\")\n",
    "    plt.show()\n",
    "\n",
    "\n",
    "def plot_fibonacci_div(iterations: int) -> None:\n",
    "    \"\"\"Plots fibonacci values division with the previous value in n iterations\n",
    "\n",
    "    Args:\n",
    "        iterations (int): number of iterations\n",
    "    \"\"\"\n",
    "\n",
    "    fibonacci_data: Dict[str, List[float]\n",
    "                         ] = fill_with_fibonacci_data(iterations)\n",
    "    x_vals: list[float] = fibonacci_data[\"x\"][2:]\n",
    "    y_vals: list[float] = [fibonacci_data[\"y\"][i]/fibonacci_data[\"y\"][i-1] \n",
    "              for i in range(2, len(fibonacci_data[\"y\"]))]\n",
    "\n",
    "    sns.lineplot(x=x_vals, y=y_vals, marker=\"x\", linestyle=\"--\")\n",
    "    phi = (1 + 5**0.5) / 2\n",
    "    \n",
    "    for x, y in zip(x_vals, y_vals):\n",
    "        plt.text(x, y, f\"{y:.2f}\", ha=\"center\", va=\"bottom\", fontsize=9)\n",
    "        \n",
    "        \n",
    "    plt.text(x_vals[-1], phi + 0.1, r\"$\\varphi \\approx 1.618$\", \n",
    "             color=\"blue\", fontsize=10, ha=\"right\")\n",
    "    \n",
    "    plt.title(\"Fibonacci Convergence\")\n",
    "    plt.xlabel(\"n value\")\n",
    "    plt.ylabel(\"Fibonacci value / fib value -1\")\n",
    "    plt.show()"
   ]
  },
  {
   "cell_type": "code",
   "execution_count": 12,
   "id": "51db4204",
   "metadata": {},
   "outputs": [
    {
     "data": {
      "image/png": "[encoded data removed]",
      "text/plain": [
       "<Figure size 640x480 with 1 Axes>"
      ]
     },
     "metadata": {},
     "output_type": "display_data"
    }
   ],
   "source": [
    "plot_fibonacci_values(20)"
   ]
  },
  {
   "cell_type": "markdown",
   "id": "3f780f3a",
   "metadata": {},
   "source": [
    "### Fibonaci convergence\n",
    "\n",
    "The division of the value of a value of fibonacci and the previus one will converge in an amazing and perfect number which is $\\Phi$ and its value is $\\approx 1.61803$"
   ]
  },
  {
   "cell_type": "code",
   "execution_count": 13,
   "id": "e9b83633",
   "metadata": {},
   "outputs": [
    {
     "data": {
      "image/png": "[encoded data removed]",
      "text/plain": [
       "<Figure size 640x480 with 1 Axes>"
      ]
     },
     "metadata": {},
     "output_type": "display_data"
    }
   ],
   "source": [
    "plot_fibonacci_div(15)"
   ]
  },
  {
   "cell_type": "markdown",
   "id": "63f4f325",
   "metadata": {},
   "source": [
    "### Fibonacci relative error \n",
    "\n",
    "$ \\frac{Y_{i + 1}} {Y_i} (i > 0) $\n",
    "\n",
    "\n",
    "when $\\frac{1 + \\sqrt{5}}{2}$\n",
    "is inside $10^{-5}$"
   ]
  },
  {
   "cell_type": "code",
   "execution_count": 14,
   "id": "ce69f9a4",
   "metadata": {},
   "outputs": [],
   "source": [
    "from decimal import Decimal, ROUND_HALF_UP\n",
    "\n",
    "def round_half_up(n, decimals=0):\n",
    "    multiplier = 10 ** decimals\n",
    "    return float(Decimal(n).quantize(Decimal(\"1\") / multiplier, rounding=ROUND_HALF_UP))"
   ]
  },
  {
   "cell_type": "code",
   "execution_count": 16,
   "id": "7381c681",
   "metadata": {},
   "outputs": [
    {
     "data": {
      "text/plain": [
       "2.67"
      ]
     },
     "execution_count": 16,
     "metadata": {},
     "output_type": "execute_result"
    }
   ],
   "source": [
    "round_half_up(2.675, 2)"
   ]
  },
  {
   "cell_type": "code",
   "execution_count": 21,
   "id": "32963649",
   "metadata": {},
   "outputs": [],
   "source": [
    "counter: int = 0\n",
    "\n",
    "\n",
    "fibonacci_data: Dict[str, List[float]\n",
    "                         ] = fill_with_fibonacci_data(100)\n",
    "y_vals = [fibonacci_data[\"y\"][i]/fibonacci_data[\"y\"][i-1]\n",
    "              for i in range(2, len(fibonacci_data[\"y\"]))]"
   ]
  },
  {
   "cell_type": "code",
   "execution_count": 22,
   "id": "97e65f03",
   "metadata": {},
   "outputs": [
    {
     "data": {
      "text/plain": [
       "[1.0,\n",
       " 2.0,\n",
       " 1.5,\n",
       " 1.6666666666666667,\n",
       " 1.6,\n",
       " 1.625,\n",
       " 1.6153846153846154,\n",
       " 1.619047619047619,\n",
       " 1.6176470588235294,\n",
       " 1.6181818181818182,\n",
       " 1.6179775280898876,\n",
       " 1.6180555555555556,\n",
       " 1.6180257510729614,\n",
       " 1.6180371352785146,\n",
       " 1.618032786885246,\n",
       " 1.618034447821682,\n",
       " 1.6180338134001253,\n",
       " 1.618034055727554,\n",
       " 1.6180339631667064,\n",
       " 1.6180339985218033,\n",
       " 1.618033985017358,\n",
       " 1.6180339901755971,\n",
       " 1.618033988205325,\n",
       " 1.618033988957902,\n",
       " 1.6180339886704431,\n",
       " 1.6180339887802426,\n",
       " 1.618033988738303,\n",
       " 1.6180339887543225,\n",
       " 1.6180339887482036,\n",
       " 1.6180339887505408,\n",
       " 1.6180339887496482,\n",
       " 1.618033988749989,\n",
       " 1.618033988749859,\n",
       " 1.6180339887499087,\n",
       " 1.6180339887498896,\n",
       " 1.618033988749897,\n",
       " 1.618033988749894,\n",
       " 1.6180339887498951,\n",
       " 1.6180339887498947,\n",
       " 1.618033988749895,\n",
       " 1.618033988749895,\n",
       " 1.618033988749895,\n",
       " 1.618033988749895,\n",
       " 1.618033988749895,\n",
       " 1.618033988749895,\n",
       " 1.618033988749895,\n",
       " 1.618033988749895,\n",
       " 1.618033988749895,\n",
       " 1.618033988749895,\n",
       " 1.618033988749895,\n",
       " 1.618033988749895,\n",
       " 1.618033988749895,\n",
       " 1.618033988749895,\n",
       " 1.618033988749895,\n",
       " 1.618033988749895,\n",
       " 1.618033988749895,\n",
       " 1.618033988749895,\n",
       " 1.618033988749895,\n",
       " 1.618033988749895,\n",
       " 1.618033988749895,\n",
       " 1.618033988749895,\n",
       " 1.618033988749895,\n",
       " 1.618033988749895,\n",
       " 1.618033988749895,\n",
       " 1.618033988749895,\n",
       " 1.618033988749895,\n",
       " 1.618033988749895,\n",
       " 1.618033988749895,\n",
       " 1.618033988749895,\n",
       " 1.618033988749895,\n",
       " 1.618033988749895,\n",
       " 1.618033988749895,\n",
       " 1.618033988749895,\n",
       " 1.618033988749895,\n",
       " 1.618033988749895,\n",
       " 1.618033988749895,\n",
       " 1.618033988749895,\n",
       " 1.618033988749895,\n",
       " 1.618033988749895,\n",
       " 1.618033988749895,\n",
       " 1.618033988749895,\n",
       " 1.618033988749895,\n",
       " 1.618033988749895,\n",
       " 1.618033988749895,\n",
       " 1.618033988749895,\n",
       " 1.618033988749895,\n",
       " 1.618033988749895,\n",
       " 1.618033988749895,\n",
       " 1.618033988749895,\n",
       " 1.618033988749895,\n",
       " 1.618033988749895,\n",
       " 1.618033988749895,\n",
       " 1.618033988749895,\n",
       " 1.618033988749895,\n",
       " 1.618033988749895,\n",
       " 1.618033988749895,\n",
       " 1.618033988749895,\n",
       " 1.618033988749895]"
      ]
     },
     "execution_count": 22,
     "metadata": {},
     "output_type": "execute_result"
    }
   ],
   "source": [
    "y_vals"
   ]
  },
  {
   "cell_type": "code",
   "execution_count": 24,
   "id": "068bfbe5",
   "metadata": {},
   "outputs": [],
   "source": [
    "phi: float = (1 + 5**0.5) / 2"
   ]
  },
  {
   "cell_type": "code",
   "execution_count": 29,
   "id": "de16354b",
   "metadata": {},
   "outputs": [
    {
     "data": {
      "text/plain": [
       "1.618033988749895"
      ]
     },
     "execution_count": 29,
     "metadata": {},
     "output_type": "execute_result"
    }
   ],
   "source": [
    "phi"
   ]
  },
  {
   "cell_type": "code",
   "execution_count": 42,
   "id": "7d02deaa",
   "metadata": {},
   "outputs": [
    {
     "name": "stdout",
     "output_type": "stream",
     "text": [
      "14\n"
     ]
    }
   ],
   "source": [
    "for i, val in enumerate(y_vals):\n",
    "    if (abs(val - phi) < 10**-5):\n",
    "        print(i + 2)\n",
    "        break\n",
    "        \n",
    "    "
   ]
  },
  {
   "cell_type": "code",
   "execution_count": 58,
   "id": "cc19edd7",
   "metadata": {},
   "outputs": [],
   "source": [
    "value: float = 0.0\n",
    "\n",
    "for i in range(1, 100000):\n",
    "    value = value + 1/i"
   ]
  },
  {
   "cell_type": "code",
   "execution_count": null,
   "id": "6cf53ad8",
   "metadata": {},
   "outputs": [],
   "source": []
  },
  {
   "cell_type": "code",
   "execution_count": 59,
   "id": "23c13faf",
   "metadata": {},
   "outputs": [],
   "source": [
    "def plot_convergence(iterations: int) -> None:\n",
    "    x_vals: list[float] = [i for i in range(1, iterations)]\n",
    "    y_vals: List[float] = []\n",
    "    value: float = 0.0\n",
    "    for i in range(1, iterations):\n",
    "        value = value + 1/i\n",
    "        y_vals.append(value)\n",
    "\n",
    "    sns.lineplot(x=x_vals, y=y_vals)\n",
    "    \n",
    "    # for x, y in zip(x_vals, y_vals):\n",
    "    #     plt.text(x, y, f\"{y:.2f}\", ha=\"center\", va=\"bottom\", fontsize=9)\n",
    "        \n",
    "    \n",
    "    plt.title(\"1/n iterations\")\n",
    "    plt.xlabel(\"n value\")\n",
    "    plt.ylabel(\"Harmonic value\")\n",
    "    plt.show()"
   ]
  },
  {
   "cell_type": "code",
   "execution_count": 57,
   "id": "fbb1f32e",
   "metadata": {},
   "outputs": [
    {
     "data": {
      "image/png": "[encoded data removed]",
      "text/plain": [
       "<Figure size 640x480 with 1 Axes>"
      ]
     },
     "metadata": {},
     "output_type": "display_data"
    }
   ],
   "source": [
    "plot_convergence(100000)"
   ]
  },
  {
   "cell_type": "code",
   "execution_count": null,
   "id": "ca56d104",
   "metadata": {},
   "outputs": [],
   "source": []
  }
 ],
 "metadata": {
  "kernelspec": {
   "display_name": "workshop-1",
   "language": "python",
   "name": "python3"
  },
  "language_info": {
   "codemirror_mode": {
    "name": "ipython",
    "version": 3
   },
   "file_extension": ".py",
   "mimetype": "text/x-python",
   "name": "python",
   "nbconvert_exporter": "python",
   "pygments_lexer": "ipython3",
   "version": "3.12.11"
  }
 },
 "nbformat": 4,
 "nbformat_minor": 5
}
